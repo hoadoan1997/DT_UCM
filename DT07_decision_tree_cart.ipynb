{
 "cells": [
  {
   "cell_type": "code",
   "execution_count": 1,
   "outputs": [],
   "source": [
    "import pandas as pd\n",
    "from sklearn.model_selection import train_test_split\n",
    "import matplotlib.pyplot as plt\n",
    "import numpy as np\n",
    "from sklearn.datasets import make_circles\n",
    "from chefboost import Chefboost as chef\n",
    "from sklearn import metrics\n",
    "import probabilistic_decision_tree as pdt"
   ],
   "metadata": {
    "collapsed": false,
    "pycharm": {
     "name": "#%%\n"
    }
   }
  },
  {
   "cell_type": "code",
   "execution_count": 24,
   "outputs": [],
   "source": [
    "df = pd.read_csv(\"hepatitis.csv\")"
   ],
   "metadata": {
    "collapsed": false,
    "pycharm": {
     "name": "#%%\n"
    }
   }
  },
  {
   "cell_type": "code",
   "execution_count": 36,
   "outputs": [],
   "source": [
    "tf_columns = ['steroid',\n",
    "              'sex',\n",
    "              'antivirals',\n",
    "              'fatigue',\n",
    "              'malaise',\n",
    "              'anorexia',\n",
    "              'liver_big',\n",
    "              'liver_firm',\n",
    "              'spleen_palable',\n",
    "              'spiders',\n",
    "              'ascites',\n",
    "              'varices',\n",
    "              'class',\n",
    "              'histology']"
   ],
   "metadata": {
    "collapsed": false,
    "pycharm": {
     "name": "#%%\n"
    }
   }
  },
  {
   "cell_type": "code",
   "execution_count": 37,
   "outputs": [],
   "source": [
    "df = df.reindex(sorted(df.columns), axis=1)"
   ],
   "metadata": {
    "collapsed": false,
    "pycharm": {
     "name": "#%%\n"
    }
   }
  },
  {
   "cell_type": "code",
   "execution_count": 38,
   "outputs": [],
   "source": [
    "X_train, X_test = train_test_split(df, test_size=0.3, random_state=1)"
   ],
   "metadata": {
    "collapsed": false,
    "pycharm": {
     "name": "#%%\n"
    }
   }
  },
  {
   "cell_type": "code",
   "execution_count": 28,
   "outputs": [],
   "source": [
    "def seed_continuous_noises(distance, data):\n",
    "    noises = make_circles(n_samples=30, noise=np.mean(data[distance]), random_state=1)\n",
    "    return abs(noises[0][:, 1])"
   ],
   "metadata": {
    "collapsed": false,
    "pycharm": {
     "name": "#%%\n"
    }
   }
  },
  {
   "cell_type": "code",
   "execution_count": 29,
   "outputs": [],
   "source": [
    "continuous_columns = ['alk_phosphate', 'age', 'bilirubin', 'sgot', 'albumin', 'protime']\n",
    "nosies = dict()\n",
    "for continuous_column in continuous_columns:\n",
    "    nosies[continuous_column] = seed_continuous_noises(continuous_column, df)\n",
    "for format_column in tf_columns:\n",
    "    nosies[format_column] = np.random.randint(2, size=30)\n",
    "noises_df = pd.DataFrame(nosies)"
   ],
   "metadata": {
    "collapsed": false,
    "pycharm": {
     "name": "#%%\n"
    }
   }
  },
  {
   "cell_type": "code",
   "execution_count": 30,
   "outputs": [],
   "source": [
    "noises_df = noises_df.reindex(sorted(noises_df.columns), axis=1)\n",
    "noises_df = pd.concat([X_train, noises_df])\n",
    "noises_df['patient'] = np.arange(0, len(noises_df['class']))\n",
    "for column in df.columns:\n",
    "    if column in tf_columns:\n",
    "        noises_df[column] = noises_df[column].replace((0, 1), (False, True)).astype(type(False))\n",
    "        X_test[column] = X_test[column].replace((0, 1), (False, True)).astype(type(False))"
   ],
   "metadata": {
    "collapsed": false,
    "pycharm": {
     "name": "#%%\n"
    }
   }
  },
  {
   "cell_type": "code",
   "execution_count": 31,
   "outputs": [
    {
     "data": {
      "text/plain": "<Figure size 640x480 with 1 Axes>",
      "image/png": "[encoded data removed]"
     },
     "metadata": {},
     "output_type": "display_data"
    }
   ],
   "source": [
    "colors = {False: 'green', True: 'red'}\n",
    "fig, ax = plt.subplots()\n",
    "ax.set_facecolor('silver')\n",
    "grouped = noises_df.groupby('class')\n",
    "for key, group in grouped:\n",
    "    group.plot(ax=ax, kind='scatter', x='patient', y='alk_phosphate', label=key, color=colors[key])\n",
    "plt.show()"
   ],
   "metadata": {
    "collapsed": false,
    "pycharm": {
     "name": "#%%\n"
    }
   }
  },
  {
   "cell_type": "code",
   "execution_count": 13,
   "outputs": [
    {
     "name": "stdout",
     "output_type": "stream",
     "text": [
      "[INFO]:  6 CPU cores will be allocated in parallel running\n",
      "WARNING: You set the algorithm to  C4.5  but the Decision column of your data set has non-object type.\n",
      "That's why, the algorithm is set to Regression to handle the data set.\n",
      "Regression  tree is going to be built...\n",
      "-------------------------\n",
      "finished in  2.3029234409332275  seconds\n",
      "-------------------------\n",
      "Evaluate  train set\n",
      "-------------------------\n",
      "MAE:  0.056847545219638244\n",
      "MSE:  0.02842377260981912\n",
      "RMSE:  0.1685935129529577\n",
      "RAE:  0.1934294858246657\n",
      "RRSE:  0.3945814692542817\n",
      "Mean:  0.7596899224806202\n",
      "MAE / Mean:  7.482993197278911 %\n",
      "RMSE / Mean:  22.192411398909737 %\n"
     ]
    }
   ],
   "source": [
    "config = {'algorithm': 'C4.5'}\n",
    "model = chef.fit(noises_df, config=config, target_label='class')"
   ],
   "metadata": {
    "collapsed": false,
    "pycharm": {
     "name": "#%%\n"
    }
   }
  },
  {
   "cell_type": "code",
   "execution_count": 9,
   "outputs": [
    {
     "ename": "NameError",
     "evalue": "name 'model' is not defined",
     "output_type": "error",
     "traceback": [
      "\u001B[1;31m---------------------------------------------------------------------------\u001B[0m",
      "\u001B[1;31mNameError\u001B[0m                                 Traceback (most recent call last)",
      "Cell \u001B[1;32mIn [9], line 3\u001B[0m\n\u001B[0;32m      1\u001B[0m predictions \u001B[38;5;241m=\u001B[39m []\n\u001B[0;32m      2\u001B[0m \u001B[38;5;28;01mfor\u001B[39;00m index, instance \u001B[38;5;129;01min\u001B[39;00m X_test\u001B[38;5;241m.\u001B[39miterrows():\n\u001B[1;32m----> 3\u001B[0m     prediction \u001B[38;5;241m=\u001B[39m chef\u001B[38;5;241m.\u001B[39mpredict(model, instance)\n\u001B[0;32m      4\u001B[0m     predictions\u001B[38;5;241m.\u001B[39mappend(prediction)\n",
      "\u001B[1;31mNameError\u001B[0m: name 'model' is not defined"
     ]
    }
   ],
   "source": [
    "predictions = []\n",
    "for index, instance in X_test.iterrows():\n",
    "    prediction = chef.predict(model, instance)\n",
    "    predictions.append(prediction)"
   ],
   "metadata": {
    "collapsed": false,
    "pycharm": {
     "name": "#%%\n"
    }
   }
  },
  {
   "cell_type": "code",
   "execution_count": 74,
   "outputs": [
    {
     "ename": "NameError",
     "evalue": "name 'predictions' is not defined",
     "output_type": "error",
     "traceback": [
      "\u001B[1;31m---------------------------------------------------------------------------\u001B[0m",
      "\u001B[1;31mNameError\u001B[0m                                 Traceback (most recent call last)",
      "Cell \u001B[1;32mIn [74], line 1\u001B[0m\n\u001B[1;32m----> 1\u001B[0m \u001B[38;5;28mprint\u001B[39m(\u001B[38;5;124m\"\u001B[39m\u001B[38;5;124mAccuracy:\u001B[39m\u001B[38;5;124m\"\u001B[39m, metrics\u001B[38;5;241m.\u001B[39maccuracy_score(X_test[\u001B[38;5;124m'\u001B[39m\u001B[38;5;124mclass\u001B[39m\u001B[38;5;124m'\u001B[39m], predictions))\n",
      "\u001B[1;31mNameError\u001B[0m: name 'predictions' is not defined"
     ]
    }
   ],
   "source": [
    "print(\"Accuracy:\", metrics.accuracy_score(X_test['class'], predictions))"
   ],
   "metadata": {
    "collapsed": false,
    "pycharm": {
     "name": "#%%\n"
    }
   }
  },
  {
   "cell_type": "markdown",
   "source": [],
   "metadata": {
    "collapsed": false,
    "pycharm": {
     "name": "#%% md\n"
    }
   }
  },
  {
   "cell_type": "code",
   "execution_count": 9,
   "outputs": [],
   "source": [
    "for column in df.columns:\n",
    "    if column in tf_columns:\n",
    "        noises_df[column] = noises_df[column].replace((0, 1), (False, True)).astype(type(False))\n",
    "        X_test[column] = X_test[column].replace((0, 1), (False, True)).astype(type(False))"
   ],
   "metadata": {
    "collapsed": false,
    "pycharm": {
     "name": "#%%\n"
    }
   }
  },
  {
   "cell_type": "code",
   "execution_count": 39,
   "outputs": [
    {
     "data": {
      "text/plain": "(0.006559332140727514, 85)"
     },
     "execution_count": 39,
     "metadata": {},
     "output_type": "execute_result"
    }
   ],
   "source": [
    "information_gain, best_split, _, _ = pdt.max_information_gain_split(X_test['alk_phosphate'], X_test['class'])\n",
    "(information_gain, best_split)"
   ],
   "metadata": {
    "collapsed": false,
    "pycharm": {
     "name": "#%%\n"
    }
   }
  },
  {
   "cell_type": "code",
   "execution_count": 16,
   "outputs": [
    {
     "data": {
      "text/plain": "{'malaise in  [True]': [{'albumin <=  2.2': [{'albumin <=  0.7816971811462268': [True,\n      False]},\n    {'albumin <=  7.599246807722191': [True, False]}]},\n  {'age <=  56.49916668086771': [{'age <=  41.76527577643465': [{'bilirubin <=  0.7363671194853463': [True,\n        False]},\n      True]},\n    False]}]}"
     },
     "execution_count": 16,
     "metadata": {},
     "output_type": "execute_result"
    }
   ],
   "source": [
    "max_depth = 5\n",
    "min_samples_split = 5\n",
    "decisiones = pdt.train_tree(noises_df, 'class', True, max_depth, min_samples_split)\n",
    "decisiones"
   ],
   "metadata": {
    "collapsed": false,
    "pycharm": {
     "name": "#%%\n"
    }
   }
  },
  {
   "cell_type": "code",
   "execution_count": 17,
   "outputs": [
    {
     "name": "stdout",
     "output_type": "stream",
     "text": [
      "['malaise', 'in', '[True]']\n"
     ]
    },
    {
     "ename": "TypeError",
     "evalue": "'in <string>' requires string as left operand, not numpy.bool_",
     "output_type": "error",
     "traceback": [
      "\u001B[1;31m---------------------------------------------------------------------------\u001B[0m",
      "\u001B[1;31mTypeError\u001B[0m                                 Traceback (most recent call last)",
      "Cell \u001B[1;32mIn [17], line 5\u001B[0m\n\u001B[0;32m      2\u001B[0m num_obs \u001B[38;5;241m=\u001B[39m \u001B[38;5;28mlen\u001B[39m(X_test[\u001B[38;5;124m'\u001B[39m\u001B[38;5;124mclass\u001B[39m\u001B[38;5;124m'\u001B[39m])\n\u001B[0;32m      4\u001B[0m \u001B[38;5;28;01mfor\u001B[39;00m i \u001B[38;5;129;01min\u001B[39;00m \u001B[38;5;28mrange\u001B[39m(num_obs):\n\u001B[1;32m----> 5\u001B[0m     obs_pred \u001B[38;5;241m=\u001B[39m pdt\u001B[38;5;241m.\u001B[39mclasificar_datos(X_test\u001B[38;5;241m.\u001B[39miloc[i, :], decisiones)\n\u001B[0;32m      6\u001B[0m     prediction\u001B[38;5;241m.\u001B[39mappend(obs_pred)\n\u001B[0;32m      8\u001B[0m \u001B[38;5;28mprint\u001B[39m(\u001B[38;5;124m\"\u001B[39m\u001B[38;5;124mPredictions: \u001B[39m\u001B[38;5;124m\"\u001B[39m, prediction,\n\u001B[0;32m      9\u001B[0m       \u001B[38;5;124m\"\u001B[39m\u001B[38;5;130;01m\\n\u001B[39;00m\u001B[38;5;130;01m\\n\u001B[39;00m\u001B[38;5;124mReal Values:\u001B[39m\u001B[38;5;124m\"\u001B[39m, X_test[\u001B[38;5;124m'\u001B[39m\u001B[38;5;124mclass\u001B[39m\u001B[38;5;124m'\u001B[39m][:num_obs]\u001B[38;5;241m.\u001B[39mto_numpy())\n",
      "File \u001B[1;32m~\\Desktop\\workspace\\DecisionTree\\probabilistic_decision_tree.py:189\u001B[0m, in \u001B[0;36mclasificar_datos\u001B[1;34m(observacion, arbol)\u001B[0m\n\u001B[0;32m    187\u001B[0m \u001B[38;5;28;01melse\u001B[39;00m:\n\u001B[0;32m    188\u001B[0m     \u001B[38;5;28mprint\u001B[39m(question\u001B[38;5;241m.\u001B[39msplit())\n\u001B[1;32m--> 189\u001B[0m     \u001B[38;5;28;01mif\u001B[39;00m \u001B[43mobservacion\u001B[49m\u001B[43m[\u001B[49m\u001B[43mquestion\u001B[49m\u001B[38;5;241;43m.\u001B[39;49m\u001B[43msplit\u001B[49m\u001B[43m(\u001B[49m\u001B[43m)\u001B[49m\u001B[43m[\u001B[49m\u001B[38;5;241;43m0\u001B[39;49m\u001B[43m]\u001B[49m\u001B[43m]\u001B[49m\u001B[43m \u001B[49m\u001B[38;5;129;43;01min\u001B[39;49;00m\u001B[43m \u001B[49m\u001B[43m(\u001B[49m\u001B[43mquestion\u001B[49m\u001B[38;5;241;43m.\u001B[39;49m\u001B[43msplit\u001B[49m\u001B[43m(\u001B[49m\u001B[43m)\u001B[49m\u001B[43m[\u001B[49m\u001B[38;5;241;43m2\u001B[39;49m\u001B[43m]\u001B[49m\u001B[43m)\u001B[49m:\n\u001B[0;32m    190\u001B[0m         answer \u001B[38;5;241m=\u001B[39m arbol[question][\u001B[38;5;241m0\u001B[39m]\n\u001B[0;32m    191\u001B[0m     \u001B[38;5;28;01melse\u001B[39;00m:\n",
      "\u001B[1;31mTypeError\u001B[0m: 'in <string>' requires string as left operand, not numpy.bool_"
     ]
    }
   ],
   "source": [
    "prediction = []\n",
    "num_obs = len(X_test['class'])\n",
    "\n",
    "for i in range(num_obs):\n",
    "    obs_pred = pdt.clasificar_datos(X_test.iloc[i, :], decisiones)\n",
    "    prediction.append(obs_pred)\n",
    "\n",
    "print(\"Predictions: \", prediction,\n",
    "      \"\\n\\nReal Values:\", X_test['class'][:num_obs].to_numpy())"
   ],
   "metadata": {
    "collapsed": false,
    "pycharm": {
     "name": "#%%\n"
    }
   }
  },
  {
   "cell_type": "code",
   "execution_count": 30,
   "outputs": [
    {
     "data": {
      "text/plain": "['albumin', '<=', '1.0086434487883846']"
     },
     "execution_count": 30,
     "metadata": {},
     "output_type": "execute_result"
    }
   ],
   "source": [
    "question = list(decisiones.keys())[0]\n",
    "question.split()"
   ],
   "metadata": {
    "collapsed": false,
    "pycharm": {
     "name": "#%%\n"
    }
   }
  },
  {
   "cell_type": "code",
   "execution_count": 94,
   "outputs": [
    {
     "name": "stderr",
     "output_type": "stream",
     "text": [
      "C:\\Users\\TNGU\\AppData\\Local\\Temp\\ipykernel_32496\\2189575612.py:1: FutureWarning: The behavior of `series[i:j]` with an integer-dtype index is deprecated. In a future version, this will be treated as *label-based* indexing, consistent with e.g. `series[i]` lookups. To retain the old behavior, use `series.iloc[i:j]`. To get the future behavior, use `series.loc[i:j]`.\n",
      "  result = np.array(noises_df['class'][:num_obs].to_numpy() == prediction)\n"
     ]
    }
   ],
   "source": [
    "result = np.array(noises_df['class'][:num_obs].to_numpy() == prediction)"
   ],
   "metadata": {
    "collapsed": false,
    "pycharm": {
     "name": "#%%\n"
    }
   }
  },
  {
   "cell_type": "code",
   "execution_count": 95,
   "outputs": [
    {
     "data": {
      "text/plain": "0.09302325581395349"
     },
     "execution_count": 95,
     "metadata": {},
     "output_type": "execute_result"
    }
   ],
   "source": [
    "len(result[result == True]) / len(noises_df['class'])"
   ],
   "metadata": {
    "collapsed": false,
    "pycharm": {
     "name": "#%%\n"
    }
   }
  },
  {
   "cell_type": "code",
   "execution_count": 39,
   "outputs": [
    {
     "data": {
      "text/plain": "array([ True,  True,  True,  True,  True,  True,  True,  True,  True,\n        True,  True,  True,  True,  True, False,  True, False,  True,\n        True, False,  True,  True,  True,  True,  True,  True,  True,\n       False,  True,  True,  True,  True,  True,  True,  True, False,\n        True,  True, False, False,  True,  True, False,  True, False,\n        True,  True,  True,  True, False,  True, False,  True,  True,\n        True,  True,  True,  True,  True, False,  True,  True,  True,\n        True,  True,  True,  True,  True,  True,  True,  True,  True,\n       False,  True,  True,  True,  True,  True,  True, False,  True,\n        True,  True,  True,  True,  True,  True,  True, False,  True,\n        True, False,  True,  True, False, False,  True,  True,  True,\n        True, False,  True, False,  True,  True, False, False, False,\n       False, False,  True,  True,  True,  True,  True,  True, False,\n        True, False, False,  True, False,  True,  True, False, False,\n        True,  True,  True])"
     },
     "execution_count": 39,
     "metadata": {},
     "output_type": "execute_result"
    }
   ],
   "source": [
    "result"
   ],
   "metadata": {
    "collapsed": false,
    "pycharm": {
     "name": "#%%\n"
    }
   }
  },
  {
   "cell_type": "code",
   "execution_count": null,
   "outputs": [],
   "source": [],
   "metadata": {
    "collapsed": false,
    "pycharm": {
     "name": "#%%\n"
    }
   }
  }
 ],
 "metadata": {
  "kernelspec": {
   "display_name": "Python 3",
   "language": "python",
   "name": "python3"
  },
  "language_info": {
   "codemirror_mode": {
    "name": "ipython",
    "version": 2
   },
   "file_extension": ".py",
   "mimetype": "text/x-python",
   "name": "python",
   "nbconvert_exporter": "python",
   "pygments_lexer": "ipython2",
   "version": "2.7.6"
  }
 },
 "nbformat": 4,
 "nbformat_minor": 0
}